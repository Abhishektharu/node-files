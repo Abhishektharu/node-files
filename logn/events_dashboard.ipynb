{
 "cells": [
  {
   "cell_type": "code",
   "execution_count": null,
   "metadata": {},
   "outputs": [],
   "source": [
    "import pandas as pd\n",
    "import matplotlib.pyplot as plt\n",
    "import ipywidgets as widgets\n",
    "from IPython.display import display\n",
    "import voila\n",
    "\n",
    "# Load data into a DataFrame\n",
    "df = pd.read_csv('events.csv')\n",
    "\n",
    "def plot_events(start_date):\n",
    "    # Filter data\n",
    "    filtered_df = df[df['date'] >= start_date]\n",
    "    \n",
    "    # Plot events\n",
    "    plt.figure(figsize=(10, 6))\n",
    "    plt.plot(filtered_df['date'], filtered_df['event_count'], marker='o', linestyle='-')\n",
    "    plt.title('Events Over Time')\n",
    "    plt.xlabel('Date')\n",
    "    plt.ylabel('Event Count')\n",
    "    plt.xticks(rotation=45)\n",
    "    plt.grid(True)\n",
    "    plt.tight_layout()\n",
    "    plt.show()\n",
    "\n",
    "# Create a date picker widget\n",
    "date_picker = widgets.DatePicker(description='Start Date')\n",
    "\n",
    "# Define a function to update the plot when the date is changed\n",
    "def on_date_change(change):\n",
    "    plot_events(change.new.strftime('%Y-%m-%d'))\n",
    "\n",
    "# Connect the function to the date picker widget\n",
    "date_picker.observe(on_date_change, names='value')\n",
    "\n",
    "# Display the widgets\n",
    "display(date_picker)\n",
    "\n",
    "# Initial plot with the default date\n",
    "plot_events(df['date'].min())\n"
   ]
  }
 ],
 "metadata": {
  "language_info": {
   "name": "python"
  }
 },
 "nbformat": 4,
 "nbformat_minor": 2
}
